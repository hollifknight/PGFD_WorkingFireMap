{
 "cells": [
  {
   "cell_type": "markdown",
   "metadata": {},
   "source": [
    "# Map of Working Incidents by Station Area"
   ]
  },
  {
   "cell_type": "code",
   "execution_count": 5,
   "metadata": {},
   "outputs": [],
   "source": [
    "import pandas as pd\n",
    "import ipywidgets as widgets\n",
    "from ipywidgets import Layout\n",
    "import numpy as np\n",
    "import matplotlib.pyplot as plt\n",
    "from folium import plugins\n",
    "import folium\n",
    "import s3fs\n",
    "import boto3\n",
    "import openpyxl"
   ]
  },
  {
   "cell_type": "code",
   "execution_count": 6,
   "metadata": {},
   "outputs": [],
   "source": [
    "s3 = boto3.resource('s3')"
   ]
  },
  {
   "cell_type": "code",
   "execution_count": 7,
   "metadata": {},
   "outputs": [],
   "source": [
    "df = pd.read_excel('s3://pgfd-testbucket-001/WorkingIncidents2020_LatLong.xlsx', engine='openpyxl')"
   ]
  },
  {
   "cell_type": "code",
   "execution_count": 11,
   "metadata": {},
   "outputs": [],
   "source": [
    "df = df[['Time_CallEnteredQueue', 'Master_Incident_Number', 'Problem', 'Radio_Name', 'Longitude', 'Latitude', \n",
    "       'Extra_1', 'Extra_10','Extra_3']]"
   ]
  },
  {
   "cell_type": "code",
   "execution_count": 12,
   "metadata": {},
   "outputs": [],
   "source": [
    "df.columns = ['DateTime', 'IncNum', 'Problem', 'IncidentType', 'lng', 'lat', 'Description', 'Shift', 'BoxNum']"
   ]
  },
  {
   "cell_type": "code",
   "execution_count": 13,
   "metadata": {},
   "outputs": [],
   "source": [
    "df['BoxNum'] = df['BoxNum'].astype(str)\n",
    "df['BoxNum'] = df['BoxNum'].apply(lambda x: x.zfill(4))\n",
    "\n",
    "df['Station'] = df['BoxNum'].astype(str).str[0:2]"
   ]
  },
  {
   "cell_type": "code",
   "execution_count": 14,
   "metadata": {},
   "outputs": [],
   "source": [
    "df['lng'] = -df['lng'] * 0.000001"
   ]
  },
  {
   "cell_type": "code",
   "execution_count": 15,
   "metadata": {},
   "outputs": [],
   "source": [
    "df['lat'] = df['lat'] * 0.000001"
   ]
  },
  {
   "cell_type": "code",
   "execution_count": 16,
   "metadata": {},
   "outputs": [],
   "source": [
    "unique_station = df.Station.unique()\n",
    "unique_station = np.sort(unique_station)\n",
    "\n",
    "Station = widgets.SelectMultiple(\n",
    "    options = unique_station.tolist(),\n",
    "    #value = ['BAYVIEW', 'NORTHERN'],\n",
    "    description='Station',\n",
    "    disabled=False,\n",
    "    layout = Layout(width='20%', height='80px', display='flex')\n",
    ")"
   ]
  },
  {
   "cell_type": "code",
   "execution_count": 17,
   "metadata": {},
   "outputs": [],
   "source": [
    "unique_type = df.IncidentType.unique()\n",
    "unique_type = np.sort(unique_type)\n",
    "\n",
    "IncType = widgets.SelectMultiple(\n",
    "    options = unique_type.tolist(),\n",
    "    #value = ['VANDALISM', 'ASSAULT', 'ROBBERY'],\n",
    "    #rows=10,\n",
    "    description='IncidentType',\n",
    "    disabled=False,\n",
    "    layout = Layout(width='50%', height='80px')\n",
    ")"
   ]
  },
  {
   "cell_type": "code",
   "execution_count": 18,
   "metadata": {},
   "outputs": [],
   "source": [
    "def update_map(Station \n",
    "               #, IncType\n",
    "              ):\n",
    "    \n",
    "    df1 = df.copy()\n",
    "    \n",
    "    latitude = 38.7965\n",
    "    longitude = -76.8836\n",
    "\n",
    "    \n",
    "    df_Station = df1.loc[df['Station'].isin(np.array(Station))]\n",
    "    #df_IncType = df_Station.loc[df_Station['IncidentType'].isin(np.array(IncType))]\n",
    "    \n",
    "    Station_unique = df_Station['Station'].value_counts()\n",
    "    Station_unique = Station_unique.reset_index()\n",
    "    \n",
    "    #IncType_unique = df_IncType['IncidentType'].value_counts()\n",
    "    #IncType_unique = IncType_unique.reset_index()\n",
    "\n",
    "\n",
    "    # create map and display it\n",
    "    PG_map = folium.Map(location=[latitude, longitude], zoom_start=10)\n",
    "\n",
    "    \n",
    "    incidents = plugins.MarkerCluster().add_to(PG_map)\n",
    "\n",
    "# loop through the dataframe and add each data point to the mark cluster\n",
    "    for lat, lng, label, in zip(df_Station.lat, df_Station.lng, df_Station.Station):\n",
    "        folium.Marker(\n",
    "        location=[lat, lng],\n",
    "        icon=None,\n",
    "        popup=label,\n",
    "        ).add_to(incidents)\n",
    "# show map\n",
    "    display(PG_map)\n",
    "    \n",
    "    plt.show()"
   ]
  },
  {
   "cell_type": "code",
   "execution_count": 19,
   "metadata": {
    "scrolled": false
   },
   "outputs": [
    {
     "data": {
      "application/vnd.jupyter.widget-view+json": {
       "model_id": "6ded53203c6a4f82948ac9c91cdc973f",
       "version_major": 2,
       "version_minor": 0
      },
      "text/plain": [
       "interactive(children=(SelectMultiple(description='Station', layout=Layout(display='flex', height='80px', width…"
      ]
     },
     "metadata": {},
     "output_type": "display_data"
    }
   ],
   "source": [
    "widgets.interactive(update_map, Station = Station, #IncType = IncType\n",
    "                   )"
   ]
  },
  {
   "cell_type": "code",
   "execution_count": null,
   "metadata": {},
   "outputs": [],
   "source": []
  }
 ],
 "metadata": {
  "kernelspec": {
   "display_name": "Python 3",
   "language": "python",
   "name": "python3"
  },
  "language_info": {
   "codemirror_mode": {
    "name": "ipython",
    "version": 3
   },
   "file_extension": ".py",
   "mimetype": "text/x-python",
   "name": "python",
   "nbconvert_exporter": "python",
   "pygments_lexer": "ipython3",
   "version": "3.7.10"
  }
 },
 "nbformat": 4,
 "nbformat_minor": 4
}
