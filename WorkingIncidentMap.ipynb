{
 "cells": [
  {
   "cell_type": "markdown",
   "metadata": {},
   "source": [
    "# Map of Working Incidents by Station Area"
   ]
  },
  {
   "cell_type": "code",
   "execution_count": 1,
   "metadata": {},
   "outputs": [],
   "source": [
    "import pandas as pd\n",
    "import ipywidgets as widgets\n",
    "from ipywidgets import Layout\n",
    "import numpy as np\n",
    "import matplotlib.pyplot as plt\n",
    "from folium import plugins\n",
    "import folium"
   ]
  },
  {
   "cell_type": "code",
   "execution_count": 2,
   "metadata": {},
   "outputs": [],
   "source": [
    "#import boto3"
   ]
  },
  {
   "cell_type": "code",
   "execution_count": 3,
   "metadata": {},
   "outputs": [],
   "source": [
    "#s3 = boto3.resource('s3')"
   ]
  },
  {
   "cell_type": "code",
   "execution_count": 4,
   "metadata": {},
   "outputs": [],
   "source": [
    "import s3fs\n",
    "\n",
    "df = pd.read_excel('s3://pgfd-testbucket-001/WorkingIncidents2020_LatLong.xlsx')"
   ]
  },
  {
   "cell_type": "code",
   "execution_count": 5,
   "metadata": {},
   "outputs": [],
   "source": [
    "#df = pd.read_excel('/Users/holliknight/Desktop/PGFD/FW Data/WorkingIncidents2020_LatLong.xlsx')"
   ]
  },
  {
   "cell_type": "code",
   "execution_count": 6,
   "metadata": {},
   "outputs": [
    {
     "data": {
      "text/html": [
       "<div>\n",
       "<style scoped>\n",
       "    .dataframe tbody tr th:only-of-type {\n",
       "        vertical-align: middle;\n",
       "    }\n",
       "\n",
       "    .dataframe tbody tr th {\n",
       "        vertical-align: top;\n",
       "    }\n",
       "\n",
       "    .dataframe thead th {\n",
       "        text-align: right;\n",
       "    }\n",
       "</style>\n",
       "<table border=\"1\" class=\"dataframe\">\n",
       "  <thead>\n",
       "    <tr style=\"text-align: right;\">\n",
       "      <th></th>\n",
       "      <th>TriggerID</th>\n",
       "      <th>Time_Query</th>\n",
       "      <th>Time_CallEnteredQueue</th>\n",
       "      <th>Priority_Number</th>\n",
       "      <th>Problem</th>\n",
       "      <th>Response_Number</th>\n",
       "      <th>Radio_Name</th>\n",
       "      <th>Longitude</th>\n",
       "      <th>Latitude</th>\n",
       "      <th>AddressLocation</th>\n",
       "      <th>...</th>\n",
       "      <th>DataLinkCount_1</th>\n",
       "      <th>DataLinkCount_2</th>\n",
       "      <th>DataLinkCount_3</th>\n",
       "      <th>DataLinkCount_4</th>\n",
       "      <th>DataLinkCount_5</th>\n",
       "      <th>DataLinkCount_6</th>\n",
       "      <th>DataLinkCount_7</th>\n",
       "      <th>DataLinkCount_8</th>\n",
       "      <th>DataLinkCount_9</th>\n",
       "      <th>DataLinkCount_10</th>\n",
       "    </tr>\n",
       "  </thead>\n",
       "  <tbody>\n",
       "    <tr>\n",
       "      <th>0</th>\n",
       "      <td>12474</td>\n",
       "      <td>2020-12-31 23:59:59</td>\n",
       "      <td>2020-01-03 02:42:01</td>\n",
       "      <td>0</td>\n",
       "      <td>APTT</td>\n",
       "      <td>NaN</td>\n",
       "      <td>2ALARM</td>\n",
       "      <td>76846897</td>\n",
       "      <td>39094040</td>\n",
       "      <td>9104 SCOTT ADAM CT</td>\n",
       "      <td>...</td>\n",
       "      <td>NaN</td>\n",
       "      <td>NaN</td>\n",
       "      <td>NaN</td>\n",
       "      <td>NaN</td>\n",
       "      <td>NaN</td>\n",
       "      <td>NaN</td>\n",
       "      <td>NaN</td>\n",
       "      <td>NaN</td>\n",
       "      <td>NaN</td>\n",
       "      <td>NaN</td>\n",
       "    </tr>\n",
       "    <tr>\n",
       "      <th>1</th>\n",
       "      <td>12474</td>\n",
       "      <td>2020-12-31 23:59:59</td>\n",
       "      <td>2020-01-03 02:42:01</td>\n",
       "      <td>0</td>\n",
       "      <td>APTT</td>\n",
       "      <td>NaN</td>\n",
       "      <td>ETASK</td>\n",
       "      <td>76846897</td>\n",
       "      <td>39094040</td>\n",
       "      <td>9104 SCOTT ADAM CT</td>\n",
       "      <td>...</td>\n",
       "      <td>NaN</td>\n",
       "      <td>NaN</td>\n",
       "      <td>NaN</td>\n",
       "      <td>NaN</td>\n",
       "      <td>NaN</td>\n",
       "      <td>NaN</td>\n",
       "      <td>NaN</td>\n",
       "      <td>NaN</td>\n",
       "      <td>NaN</td>\n",
       "      <td>NaN</td>\n",
       "    </tr>\n",
       "    <tr>\n",
       "      <th>2</th>\n",
       "      <td>12474</td>\n",
       "      <td>2020-12-31 23:59:59</td>\n",
       "      <td>2020-01-03 02:42:01</td>\n",
       "      <td>0</td>\n",
       "      <td>APTT</td>\n",
       "      <td>NaN</td>\n",
       "      <td>WFD</td>\n",
       "      <td>76846897</td>\n",
       "      <td>39094040</td>\n",
       "      <td>9104 SCOTT ADAM CT</td>\n",
       "      <td>...</td>\n",
       "      <td>NaN</td>\n",
       "      <td>NaN</td>\n",
       "      <td>NaN</td>\n",
       "      <td>NaN</td>\n",
       "      <td>NaN</td>\n",
       "      <td>NaN</td>\n",
       "      <td>NaN</td>\n",
       "      <td>NaN</td>\n",
       "      <td>NaN</td>\n",
       "      <td>NaN</td>\n",
       "    </tr>\n",
       "    <tr>\n",
       "      <th>3</th>\n",
       "      <td>12474</td>\n",
       "      <td>2020-12-31 23:59:59</td>\n",
       "      <td>2020-01-05 05:49:33</td>\n",
       "      <td>1</td>\n",
       "      <td>HOUSEF</td>\n",
       "      <td>NaN</td>\n",
       "      <td>WFD</td>\n",
       "      <td>76949237</td>\n",
       "      <td>38940740</td>\n",
       "      <td>4203 COTTAGE TER</td>\n",
       "      <td>...</td>\n",
       "      <td>NaN</td>\n",
       "      <td>NaN</td>\n",
       "      <td>NaN</td>\n",
       "      <td>NaN</td>\n",
       "      <td>NaN</td>\n",
       "      <td>NaN</td>\n",
       "      <td>NaN</td>\n",
       "      <td>NaN</td>\n",
       "      <td>NaN</td>\n",
       "      <td>NaN</td>\n",
       "    </tr>\n",
       "    <tr>\n",
       "      <th>4</th>\n",
       "      <td>12474</td>\n",
       "      <td>2020-12-31 23:59:59</td>\n",
       "      <td>2020-01-07 00:47:29</td>\n",
       "      <td>0</td>\n",
       "      <td>HOUSEF</td>\n",
       "      <td>NaN</td>\n",
       "      <td>WFD</td>\n",
       "      <td>76974982</td>\n",
       "      <td>38825261</td>\n",
       "      <td>4705 WHEELER RD</td>\n",
       "      <td>...</td>\n",
       "      <td>NaN</td>\n",
       "      <td>NaN</td>\n",
       "      <td>NaN</td>\n",
       "      <td>NaN</td>\n",
       "      <td>NaN</td>\n",
       "      <td>NaN</td>\n",
       "      <td>NaN</td>\n",
       "      <td>NaN</td>\n",
       "      <td>NaN</td>\n",
       "      <td>NaN</td>\n",
       "    </tr>\n",
       "  </tbody>\n",
       "</table>\n",
       "<p>5 rows × 167 columns</p>\n",
       "</div>"
      ],
      "text/plain": [
       "   TriggerID          Time_Query Time_CallEnteredQueue  Priority_Number  \\\n",
       "0      12474 2020-12-31 23:59:59   2020-01-03 02:42:01                0   \n",
       "1      12474 2020-12-31 23:59:59   2020-01-03 02:42:01                0   \n",
       "2      12474 2020-12-31 23:59:59   2020-01-03 02:42:01                0   \n",
       "3      12474 2020-12-31 23:59:59   2020-01-05 05:49:33                1   \n",
       "4      12474 2020-12-31 23:59:59   2020-01-07 00:47:29                0   \n",
       "\n",
       "  Problem  Response_Number Radio_Name  Longitude  Latitude  \\\n",
       "0    APTT              NaN     2ALARM   76846897  39094040   \n",
       "1    APTT              NaN      ETASK   76846897  39094040   \n",
       "2    APTT              NaN        WFD   76846897  39094040   \n",
       "3  HOUSEF              NaN        WFD   76949237  38940740   \n",
       "4  HOUSEF              NaN        WFD   76974982  38825261   \n",
       "\n",
       "      AddressLocation  ... DataLinkCount_1 DataLinkCount_2  DataLinkCount_3  \\\n",
       "0  9104 SCOTT ADAM CT  ...             NaN             NaN              NaN   \n",
       "1  9104 SCOTT ADAM CT  ...             NaN             NaN              NaN   \n",
       "2  9104 SCOTT ADAM CT  ...             NaN             NaN              NaN   \n",
       "3    4203 COTTAGE TER  ...             NaN             NaN              NaN   \n",
       "4     4705 WHEELER RD  ...             NaN             NaN              NaN   \n",
       "\n",
       "   DataLinkCount_4  DataLinkCount_5  DataLinkCount_6  DataLinkCount_7  \\\n",
       "0              NaN              NaN              NaN              NaN   \n",
       "1              NaN              NaN              NaN              NaN   \n",
       "2              NaN              NaN              NaN              NaN   \n",
       "3              NaN              NaN              NaN              NaN   \n",
       "4              NaN              NaN              NaN              NaN   \n",
       "\n",
       "   DataLinkCount_8  DataLinkCount_9 DataLinkCount_10  \n",
       "0              NaN              NaN              NaN  \n",
       "1              NaN              NaN              NaN  \n",
       "2              NaN              NaN              NaN  \n",
       "3              NaN              NaN              NaN  \n",
       "4              NaN              NaN              NaN  \n",
       "\n",
       "[5 rows x 167 columns]"
      ]
     },
     "execution_count": 6,
     "metadata": {},
     "output_type": "execute_result"
    }
   ],
   "source": [
    "df.head()"
   ]
  },
  {
   "cell_type": "code",
   "execution_count": 11,
   "metadata": {},
   "outputs": [],
   "source": [
    "df = df[['Time_CallEnteredQueue', 'Master_Incident_Number', 'Problem', 'Radio_Name', 'Longitude', 'Latitude', \n",
    "       'Extra_1', 'Extra_10','Extra_3']]"
   ]
  },
  {
   "cell_type": "code",
   "execution_count": 12,
   "metadata": {},
   "outputs": [],
   "source": [
    "df.columns = ['DateTime', 'IncNum', 'Problem', 'IncidentType', 'lng', 'lat', 'Description', 'Shift', 'BoxNum']"
   ]
  },
  {
   "cell_type": "code",
   "execution_count": 13,
   "metadata": {},
   "outputs": [],
   "source": [
    "df['BoxNum'] = df['BoxNum'].astype(str)\n",
    "df['BoxNum'] = df['BoxNum'].apply(lambda x: x.zfill(4))\n",
    "\n",
    "df['Station'] = df['BoxNum'].astype(str).str[0:2]"
   ]
  },
  {
   "cell_type": "code",
   "execution_count": 14,
   "metadata": {},
   "outputs": [],
   "source": [
    "df['lng'] = -df['lng'] * 0.000001"
   ]
  },
  {
   "cell_type": "code",
   "execution_count": 15,
   "metadata": {},
   "outputs": [],
   "source": [
    "df['lat'] = df['lat'] * 0.000001"
   ]
  },
  {
   "cell_type": "code",
   "execution_count": 16,
   "metadata": {},
   "outputs": [],
   "source": [
    "unique_station = df.Station.unique()\n",
    "unique_station = np.sort(unique_station)\n",
    "\n",
    "Station = widgets.SelectMultiple(\n",
    "    options = unique_station.tolist(),\n",
    "    #value = ['BAYVIEW', 'NORTHERN'],\n",
    "    description='Station',\n",
    "    disabled=False,\n",
    "    layout = Layout(width='20%', height='80px', display='flex')\n",
    ")"
   ]
  },
  {
   "cell_type": "code",
   "execution_count": 17,
   "metadata": {},
   "outputs": [],
   "source": [
    "unique_type = df.IncidentType.unique()\n",
    "unique_type = np.sort(unique_type)\n",
    "\n",
    "IncType = widgets.SelectMultiple(\n",
    "    options = unique_type.tolist(),\n",
    "    #value = ['VANDALISM', 'ASSAULT', 'ROBBERY'],\n",
    "    #rows=10,\n",
    "    description='IncidentType',\n",
    "    disabled=False,\n",
    "    layout = Layout(width='50%', height='80px')\n",
    ")"
   ]
  },
  {
   "cell_type": "code",
   "execution_count": 18,
   "metadata": {},
   "outputs": [],
   "source": [
    "def update_map(Station \n",
    "               #, IncType\n",
    "              ):\n",
    "    \n",
    "    df1 = df.copy()\n",
    "    \n",
    "    latitude = 38.7965\n",
    "    longitude = -76.8836\n",
    "\n",
    "    \n",
    "    df_Station = df1.loc[df['Station'].isin(np.array(Station))]\n",
    "    #df_IncType = df_Station.loc[df_Station['IncidentType'].isin(np.array(IncType))]\n",
    "    \n",
    "    Station_unique = df_Station['Station'].value_counts()\n",
    "    Station_unique = Station_unique.reset_index()\n",
    "    \n",
    "    #IncType_unique = df_IncType['IncidentType'].value_counts()\n",
    "    #IncType_unique = IncType_unique.reset_index()\n",
    "\n",
    "\n",
    "    # create map and display it\n",
    "    PG_map = folium.Map(location=[latitude, longitude], zoom_start=10)\n",
    "\n",
    "    \n",
    "    incidents = plugins.MarkerCluster().add_to(PG_map)\n",
    "\n",
    "# loop through the dataframe and add each data point to the mark cluster\n",
    "    for lat, lng, label, in zip(df_Station.lat, df_Station.lng, df_Station.Station):\n",
    "        folium.Marker(\n",
    "        location=[lat, lng],\n",
    "        icon=None,\n",
    "        popup=label,\n",
    "        ).add_to(incidents)\n",
    "# show map\n",
    "    display(PG_map)\n",
    "    \n",
    "    plt.show()"
   ]
  },
  {
   "cell_type": "code",
   "execution_count": 19,
   "metadata": {
    "scrolled": false
   },
   "outputs": [
    {
     "data": {
      "application/vnd.jupyter.widget-view+json": {
       "model_id": "6ded53203c6a4f82948ac9c91cdc973f",
       "version_major": 2,
       "version_minor": 0
      },
      "text/plain": [
       "interactive(children=(SelectMultiple(description='Station', layout=Layout(display='flex', height='80px', width…"
      ]
     },
     "metadata": {},
     "output_type": "display_data"
    }
   ],
   "source": [
    "widgets.interactive(update_map, Station = Station, #IncType = IncType\n",
    "                   )"
   ]
  },
  {
   "cell_type": "code",
   "execution_count": null,
   "metadata": {},
   "outputs": [],
   "source": []
  }
 ],
 "metadata": {
  "kernelspec": {
   "display_name": "Python 3",
   "language": "python",
   "name": "python3"
  },
  "language_info": {
   "codemirror_mode": {
    "name": "ipython",
    "version": 3
   },
   "file_extension": ".py",
   "mimetype": "text/x-python",
   "name": "python",
   "nbconvert_exporter": "python",
   "pygments_lexer": "ipython3",
   "version": "3.7.10"
  }
 },
 "nbformat": 4,
 "nbformat_minor": 4
}
